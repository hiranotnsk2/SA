{
 "cells": [
  {
   "cell_type": "code",
   "execution_count": 1,
   "metadata": {},
   "outputs": [],
   "source": [
    "%matplotlib inline\n",
    "import pandas as pd\n",
    "import numpy as np\n",
    "import matplotlib.pyplot as plt\n",
    "from sklearn.svm import SVC\n",
    "from sklearn.preprocessing import StandardScaler\n",
    "from sklearn.model_selection import train_test_split, GridSearchCV\n",
    "from sklearn.metrics import log_loss, accuracy_score, precision_recall_fscore_support,confusion_matrix\n",
    "import seaborn as sns\n",
    "import csv"
   ]
  },
  {
   "cell_type": "markdown",
   "metadata": {},
   "source": [
    "# ◆データ概要"
   ]
  },
  {
   "cell_type": "code",
   "execution_count": 2,
   "metadata": {},
   "outputs": [
    {
     "data": {
      "text/html": [
       "<div>\n",
       "<style scoped>\n",
       "    .dataframe tbody tr th:only-of-type {\n",
       "        vertical-align: middle;\n",
       "    }\n",
       "\n",
       "    .dataframe tbody tr th {\n",
       "        vertical-align: top;\n",
       "    }\n",
       "\n",
       "    .dataframe thead th {\n",
       "        text-align: right;\n",
       "    }\n",
       "</style>\n",
       "<table border=\"1\" class=\"dataframe\">\n",
       "  <thead>\n",
       "    <tr style=\"text-align: right;\">\n",
       "      <th></th>\n",
       "      <th>ID</th>\n",
       "      <th>name</th>\n",
       "      <th>category</th>\n",
       "      <th>main_category</th>\n",
       "      <th>currency</th>\n",
       "      <th>deadline</th>\n",
       "      <th>goal</th>\n",
       "      <th>launched</th>\n",
       "      <th>pledged</th>\n",
       "      <th>state</th>\n",
       "      <th>backers</th>\n",
       "      <th>country</th>\n",
       "      <th>usd pledged</th>\n",
       "      <th>usd_pledged_real</th>\n",
       "      <th>usd_goal_real</th>\n",
       "    </tr>\n",
       "  </thead>\n",
       "  <tbody>\n",
       "    <tr>\n",
       "      <th>0</th>\n",
       "      <td>1000002330</td>\n",
       "      <td>The Songs of Adelaide &amp; Abullah</td>\n",
       "      <td>Poetry</td>\n",
       "      <td>Publishing</td>\n",
       "      <td>GBP</td>\n",
       "      <td>2015-10-09</td>\n",
       "      <td>1000.0</td>\n",
       "      <td>2015-08-11 12:12:28</td>\n",
       "      <td>0.0</td>\n",
       "      <td>failed</td>\n",
       "      <td>0</td>\n",
       "      <td>GB</td>\n",
       "      <td>0.0</td>\n",
       "      <td>0.0</td>\n",
       "      <td>1533.95</td>\n",
       "    </tr>\n",
       "    <tr>\n",
       "      <th>1</th>\n",
       "      <td>1000003930</td>\n",
       "      <td>Greeting From Earth: ZGAC Arts Capsule For ET</td>\n",
       "      <td>Narrative Film</td>\n",
       "      <td>Film &amp; Video</td>\n",
       "      <td>USD</td>\n",
       "      <td>2017-11-01</td>\n",
       "      <td>30000.0</td>\n",
       "      <td>2017-09-02 04:43:57</td>\n",
       "      <td>2421.0</td>\n",
       "      <td>failed</td>\n",
       "      <td>15</td>\n",
       "      <td>US</td>\n",
       "      <td>100.0</td>\n",
       "      <td>2421.0</td>\n",
       "      <td>30000.00</td>\n",
       "    </tr>\n",
       "    <tr>\n",
       "      <th>2</th>\n",
       "      <td>1000004038</td>\n",
       "      <td>Where is Hank?</td>\n",
       "      <td>Narrative Film</td>\n",
       "      <td>Film &amp; Video</td>\n",
       "      <td>USD</td>\n",
       "      <td>2013-02-26</td>\n",
       "      <td>45000.0</td>\n",
       "      <td>2013-01-12 00:20:50</td>\n",
       "      <td>220.0</td>\n",
       "      <td>failed</td>\n",
       "      <td>3</td>\n",
       "      <td>US</td>\n",
       "      <td>220.0</td>\n",
       "      <td>220.0</td>\n",
       "      <td>45000.00</td>\n",
       "    </tr>\n",
       "    <tr>\n",
       "      <th>3</th>\n",
       "      <td>1000007540</td>\n",
       "      <td>ToshiCapital Rekordz Needs Help to Complete Album</td>\n",
       "      <td>Music</td>\n",
       "      <td>Music</td>\n",
       "      <td>USD</td>\n",
       "      <td>2012-04-16</td>\n",
       "      <td>5000.0</td>\n",
       "      <td>2012-03-17 03:24:11</td>\n",
       "      <td>1.0</td>\n",
       "      <td>failed</td>\n",
       "      <td>1</td>\n",
       "      <td>US</td>\n",
       "      <td>1.0</td>\n",
       "      <td>1.0</td>\n",
       "      <td>5000.00</td>\n",
       "    </tr>\n",
       "    <tr>\n",
       "      <th>4</th>\n",
       "      <td>1000011046</td>\n",
       "      <td>Community Film Project: The Art of Neighborhoo...</td>\n",
       "      <td>Film &amp; Video</td>\n",
       "      <td>Film &amp; Video</td>\n",
       "      <td>USD</td>\n",
       "      <td>2015-08-29</td>\n",
       "      <td>19500.0</td>\n",
       "      <td>2015-07-04 08:35:03</td>\n",
       "      <td>1283.0</td>\n",
       "      <td>canceled</td>\n",
       "      <td>14</td>\n",
       "      <td>US</td>\n",
       "      <td>1283.0</td>\n",
       "      <td>1283.0</td>\n",
       "      <td>19500.00</td>\n",
       "    </tr>\n",
       "  </tbody>\n",
       "</table>\n",
       "</div>"
      ],
      "text/plain": [
       "           ID                                               name  \\\n",
       "0  1000002330                    The Songs of Adelaide & Abullah   \n",
       "1  1000003930      Greeting From Earth: ZGAC Arts Capsule For ET   \n",
       "2  1000004038                                     Where is Hank?   \n",
       "3  1000007540  ToshiCapital Rekordz Needs Help to Complete Album   \n",
       "4  1000011046  Community Film Project: The Art of Neighborhoo...   \n",
       "\n",
       "         category main_category currency    deadline     goal  \\\n",
       "0          Poetry    Publishing      GBP  2015-10-09   1000.0   \n",
       "1  Narrative Film  Film & Video      USD  2017-11-01  30000.0   \n",
       "2  Narrative Film  Film & Video      USD  2013-02-26  45000.0   \n",
       "3           Music         Music      USD  2012-04-16   5000.0   \n",
       "4    Film & Video  Film & Video      USD  2015-08-29  19500.0   \n",
       "\n",
       "              launched  pledged     state  backers country  usd pledged  \\\n",
       "0  2015-08-11 12:12:28      0.0    failed        0      GB          0.0   \n",
       "1  2017-09-02 04:43:57   2421.0    failed       15      US        100.0   \n",
       "2  2013-01-12 00:20:50    220.0    failed        3      US        220.0   \n",
       "3  2012-03-17 03:24:11      1.0    failed        1      US          1.0   \n",
       "4  2015-07-04 08:35:03   1283.0  canceled       14      US       1283.0   \n",
       "\n",
       "   usd_pledged_real  usd_goal_real  \n",
       "0               0.0        1533.95  \n",
       "1            2421.0       30000.00  \n",
       "2             220.0       45000.00  \n",
       "3               1.0        5000.00  \n",
       "4            1283.0       19500.00  "
      ]
     },
     "execution_count": 2,
     "metadata": {},
     "output_type": "execute_result"
    }
   ],
   "source": [
    "kick = pd.read_csv(\"ks-projects-201801.csv\")\n",
    "kick.head()"
   ]
  },
  {
   "cell_type": "code",
   "execution_count": 3,
   "metadata": {},
   "outputs": [
    {
     "data": {
      "text/html": [
       "<div>\n",
       "<style scoped>\n",
       "    .dataframe tbody tr th:only-of-type {\n",
       "        vertical-align: middle;\n",
       "    }\n",
       "\n",
       "    .dataframe tbody tr th {\n",
       "        vertical-align: top;\n",
       "    }\n",
       "\n",
       "    .dataframe thead th {\n",
       "        text-align: right;\n",
       "    }\n",
       "</style>\n",
       "<table border=\"1\" class=\"dataframe\">\n",
       "  <thead>\n",
       "    <tr style=\"text-align: right;\">\n",
       "      <th></th>\n",
       "      <th>ID</th>\n",
       "      <th>goal</th>\n",
       "      <th>pledged</th>\n",
       "      <th>backers</th>\n",
       "      <th>usd pledged</th>\n",
       "      <th>usd_pledged_real</th>\n",
       "      <th>usd_goal_real</th>\n",
       "    </tr>\n",
       "  </thead>\n",
       "  <tbody>\n",
       "    <tr>\n",
       "      <th>count</th>\n",
       "      <td>3.786610e+05</td>\n",
       "      <td>3.786610e+05</td>\n",
       "      <td>3.786610e+05</td>\n",
       "      <td>378661.000000</td>\n",
       "      <td>3.748640e+05</td>\n",
       "      <td>3.786610e+05</td>\n",
       "      <td>3.786610e+05</td>\n",
       "    </tr>\n",
       "    <tr>\n",
       "      <th>mean</th>\n",
       "      <td>1.074731e+09</td>\n",
       "      <td>4.908079e+04</td>\n",
       "      <td>9.682979e+03</td>\n",
       "      <td>105.617476</td>\n",
       "      <td>7.036729e+03</td>\n",
       "      <td>9.058924e+03</td>\n",
       "      <td>4.545440e+04</td>\n",
       "    </tr>\n",
       "    <tr>\n",
       "      <th>std</th>\n",
       "      <td>6.190862e+08</td>\n",
       "      <td>1.183391e+06</td>\n",
       "      <td>9.563601e+04</td>\n",
       "      <td>907.185035</td>\n",
       "      <td>7.863975e+04</td>\n",
       "      <td>9.097334e+04</td>\n",
       "      <td>1.152950e+06</td>\n",
       "    </tr>\n",
       "    <tr>\n",
       "      <th>min</th>\n",
       "      <td>5.971000e+03</td>\n",
       "      <td>1.000000e-02</td>\n",
       "      <td>0.000000e+00</td>\n",
       "      <td>0.000000</td>\n",
       "      <td>0.000000e+00</td>\n",
       "      <td>0.000000e+00</td>\n",
       "      <td>1.000000e-02</td>\n",
       "    </tr>\n",
       "    <tr>\n",
       "      <th>25%</th>\n",
       "      <td>5.382635e+08</td>\n",
       "      <td>2.000000e+03</td>\n",
       "      <td>3.000000e+01</td>\n",
       "      <td>2.000000</td>\n",
       "      <td>1.698000e+01</td>\n",
       "      <td>3.100000e+01</td>\n",
       "      <td>2.000000e+03</td>\n",
       "    </tr>\n",
       "    <tr>\n",
       "      <th>50%</th>\n",
       "      <td>1.075276e+09</td>\n",
       "      <td>5.200000e+03</td>\n",
       "      <td>6.200000e+02</td>\n",
       "      <td>12.000000</td>\n",
       "      <td>3.947200e+02</td>\n",
       "      <td>6.243300e+02</td>\n",
       "      <td>5.500000e+03</td>\n",
       "    </tr>\n",
       "    <tr>\n",
       "      <th>75%</th>\n",
       "      <td>1.610149e+09</td>\n",
       "      <td>1.600000e+04</td>\n",
       "      <td>4.076000e+03</td>\n",
       "      <td>56.000000</td>\n",
       "      <td>3.034090e+03</td>\n",
       "      <td>4.050000e+03</td>\n",
       "      <td>1.550000e+04</td>\n",
       "    </tr>\n",
       "    <tr>\n",
       "      <th>max</th>\n",
       "      <td>2.147476e+09</td>\n",
       "      <td>1.000000e+08</td>\n",
       "      <td>2.033899e+07</td>\n",
       "      <td>219382.000000</td>\n",
       "      <td>2.033899e+07</td>\n",
       "      <td>2.033899e+07</td>\n",
       "      <td>1.663614e+08</td>\n",
       "    </tr>\n",
       "  </tbody>\n",
       "</table>\n",
       "</div>"
      ],
      "text/plain": [
       "                 ID          goal       pledged        backers   usd pledged  \\\n",
       "count  3.786610e+05  3.786610e+05  3.786610e+05  378661.000000  3.748640e+05   \n",
       "mean   1.074731e+09  4.908079e+04  9.682979e+03     105.617476  7.036729e+03   \n",
       "std    6.190862e+08  1.183391e+06  9.563601e+04     907.185035  7.863975e+04   \n",
       "min    5.971000e+03  1.000000e-02  0.000000e+00       0.000000  0.000000e+00   \n",
       "25%    5.382635e+08  2.000000e+03  3.000000e+01       2.000000  1.698000e+01   \n",
       "50%    1.075276e+09  5.200000e+03  6.200000e+02      12.000000  3.947200e+02   \n",
       "75%    1.610149e+09  1.600000e+04  4.076000e+03      56.000000  3.034090e+03   \n",
       "max    2.147476e+09  1.000000e+08  2.033899e+07  219382.000000  2.033899e+07   \n",
       "\n",
       "       usd_pledged_real  usd_goal_real  \n",
       "count      3.786610e+05   3.786610e+05  \n",
       "mean       9.058924e+03   4.545440e+04  \n",
       "std        9.097334e+04   1.152950e+06  \n",
       "min        0.000000e+00   1.000000e-02  \n",
       "25%        3.100000e+01   2.000000e+03  \n",
       "50%        6.243300e+02   5.500000e+03  \n",
       "75%        4.050000e+03   1.550000e+04  \n",
       "max        2.033899e+07   1.663614e+08  "
      ]
     },
     "execution_count": 3,
     "metadata": {},
     "output_type": "execute_result"
    }
   ],
   "source": [
    "kick.describe()"
   ]
  },
  {
   "cell_type": "markdown",
   "metadata": {},
   "source": [
    "# ◆説明変数の選別（課題共通設定の対応）\n",
    "\n",
    "通し課題の共通設定に合わせて、選別 。使用しない列は削除。 \n",
    "\n",
    "<通し課題で使用可能な説明変数>  \n",
    "ID  \n",
    "name  \n",
    "category  \n",
    "main_category  \n",
    "currency  \n",
    "deadline  \n",
    "launched  \n",
    "state  \n",
    "country  \n",
    "goal  \n",
    "usd_goal_real   \n",
    "  "
   ]
  },
  {
   "cell_type": "code",
   "execution_count": 4,
   "metadata": {},
   "outputs": [],
   "source": [
    "drop_columns = ['pledged','usd pledged','backers','usd_pledged_real']\n",
    "kick = kick.drop(drop_columns, axis = 1)"
   ]
  },
  {
   "cell_type": "markdown",
   "metadata": {},
   "source": [
    "# ◆残った説明変数について分析  \n",
    "  \n",
    "①各列毎のレコード件数、欠損値を確認  "
   ]
  },
  {
   "cell_type": "code",
   "execution_count": 5,
   "metadata": {},
   "outputs": [
    {
     "name": "stdout",
     "output_type": "stream",
     "text": [
      "<class 'pandas.core.frame.DataFrame'>\n",
      "RangeIndex: 378661 entries, 0 to 378660\n",
      "Data columns (total 11 columns):\n",
      "ID               378661 non-null int64\n",
      "name             378657 non-null object\n",
      "category         378661 non-null object\n",
      "main_category    378661 non-null object\n",
      "currency         378661 non-null object\n",
      "deadline         378661 non-null object\n",
      "goal             378661 non-null float64\n",
      "launched         378661 non-null object\n",
      "state            378661 non-null object\n",
      "country          378661 non-null object\n",
      "usd_goal_real    378661 non-null float64\n",
      "dtypes: float64(2), int64(1), object(8)\n",
      "memory usage: 31.8+ MB\n"
     ]
    }
   ],
   "source": [
    "kick.info()"
   ]
  },
  {
   "cell_type": "code",
   "execution_count": 6,
   "metadata": {},
   "outputs": [
    {
     "data": {
      "text/plain": [
       "ID               0\n",
       "name             4\n",
       "category         0\n",
       "main_category    0\n",
       "currency         0\n",
       "deadline         0\n",
       "goal             0\n",
       "launched         0\n",
       "state            0\n",
       "country          0\n",
       "usd_goal_real    0\n",
       "dtype: int64"
      ]
     },
     "execution_count": 6,
     "metadata": {},
     "output_type": "execute_result"
    }
   ],
   "source": [
    "kick.isnull().sum()"
   ]
  },
  {
   "cell_type": "markdown",
   "metadata": {},
   "source": [
    "name列には4行、欠損値が存在する事が分かった。  \n",
    "全体として37万件以上あり、データ量としては十分であるため、欠損値を含むレコードは削除する。"
   ]
  },
  {
   "cell_type": "code",
   "execution_count": 7,
   "metadata": {},
   "outputs": [
    {
     "data": {
      "text/plain": [
       "ID               0\n",
       "name             0\n",
       "category         0\n",
       "main_category    0\n",
       "currency         0\n",
       "deadline         0\n",
       "goal             0\n",
       "launched         0\n",
       "state            0\n",
       "country          0\n",
       "usd_goal_real    0\n",
       "dtype: int64"
      ]
     },
     "execution_count": 7,
     "metadata": {},
     "output_type": "execute_result"
    }
   ],
   "source": [
    "#name列に欠損値を含むレコードを削除する。\n",
    "kick = kick.dropna()\n",
    "kick.isnull().sum()"
   ]
  },
  {
   "cell_type": "markdown",
   "metadata": {},
   "source": [
    "\n",
    "②相関係数を確認"
   ]
  },
  {
   "cell_type": "code",
   "execution_count": 8,
   "metadata": {},
   "outputs": [
    {
     "data": {
      "text/html": [
       "<div>\n",
       "<style scoped>\n",
       "    .dataframe tbody tr th:only-of-type {\n",
       "        vertical-align: middle;\n",
       "    }\n",
       "\n",
       "    .dataframe tbody tr th {\n",
       "        vertical-align: top;\n",
       "    }\n",
       "\n",
       "    .dataframe thead th {\n",
       "        text-align: right;\n",
       "    }\n",
       "</style>\n",
       "<table border=\"1\" class=\"dataframe\">\n",
       "  <thead>\n",
       "    <tr style=\"text-align: right;\">\n",
       "      <th></th>\n",
       "      <th>ID</th>\n",
       "      <th>goal</th>\n",
       "      <th>usd_goal_real</th>\n",
       "    </tr>\n",
       "  </thead>\n",
       "  <tbody>\n",
       "    <tr>\n",
       "      <th>ID</th>\n",
       "      <td>1.000000</td>\n",
       "      <td>0.001678</td>\n",
       "      <td>0.001853</td>\n",
       "    </tr>\n",
       "    <tr>\n",
       "      <th>goal</th>\n",
       "      <td>0.001678</td>\n",
       "      <td>1.000000</td>\n",
       "      <td>0.942692</td>\n",
       "    </tr>\n",
       "    <tr>\n",
       "      <th>usd_goal_real</th>\n",
       "      <td>0.001853</td>\n",
       "      <td>0.942692</td>\n",
       "      <td>1.000000</td>\n",
       "    </tr>\n",
       "  </tbody>\n",
       "</table>\n",
       "</div>"
      ],
      "text/plain": [
       "                     ID      goal  usd_goal_real\n",
       "ID             1.000000  0.001678       0.001853\n",
       "goal           0.001678  1.000000       0.942692\n",
       "usd_goal_real  0.001853  0.942692       1.000000"
      ]
     },
     "metadata": {},
     "output_type": "display_data"
    },
    {
     "data": {
      "text/plain": [
       "<matplotlib.axes._subplots.AxesSubplot at 0x1a26064240>"
      ]
     },
     "execution_count": 8,
     "metadata": {},
     "output_type": "execute_result"
    },
    {
     "data": {
      "image/png": "[encoded data removed]",
      "text/plain": [
       "<Figure size 432x288 with 2 Axes>"
      ]
     },
     "metadata": {
      "needs_background": "light"
     },
     "output_type": "display_data"
    }
   ],
   "source": [
    "display(kick.corr())\n",
    "sns.heatmap(kick.corr(),cmap=\"summer\")"
   ]
  },
  {
   "cell_type": "code",
   "execution_count": null,
   "metadata": {},
   "outputs": [],
   "source": [
    "%%time\n",
    "\n",
    "df_buzz = pd.read_csv(\"buzzword.csv\")\n",
    "kick = kick.assign(buzz=0)\n",
    "\n",
    "idx_row = 0\n",
    "\n",
    "for kc_row in kick.iterrows():\n",
    "    n = 0\n",
    "    kc_str = kc_row[1]\n",
    "    for df_index, df_row in df_buzz.iterrows():\n",
    "        df_str = df_row[0]\n",
    "        if df_str in kc_str:\n",
    "            n += 1\n",
    "    kick.iloc[idx_row,11] = n\n",
    "    idx_row += 1\n",
    "    #print(idx_row,end=\",\")\n"
   ]
  },
  {
   "cell_type": "markdown",
   "metadata": {},
   "source": [
    "# ◆説明変数の選別（学習に使用しない変数の削除）\n",
    "\n",
    "学習に使用しないと判断した列は削除。 \n",
    "\n",
    "ID：単なるIDなので、プロジェクト成否に関連はないと判断  \n",
    "name：プロジェクト名称のため、プロジェクト成否に関連はないと判断  \n",
    "category：種類が多すぎ、且つ'main_category'に類似の情報が存在するため、不要と判断  \n",
    "currency:通貨＝国と考えると'country'と類似の項目。当該項目は不要と判断  \n",
    "goal:'usd_goal_real'と通貨単位が異なるだけで、同じ意味をもつ列。全プロジェクトでUSDで評価できる'usd_goal_real'の採用が望ましいため、当該項目は不要  \n",
    "  "
   ]
  },
  {
   "cell_type": "code",
   "execution_count": null,
   "metadata": {},
   "outputs": [],
   "source": [
    "drop_columns = ['ID','name','category','currency','goal']\n",
    "kick = kick.drop(drop_columns, axis = 1)"
   ]
  },
  {
   "cell_type": "markdown",
   "metadata": {},
   "source": [
    "# ◆カテゴリ変数の変換\n",
    "\n",
    "カテゴリ変数をone-hot表現に変換する"
   ]
  },
  {
   "cell_type": "code",
   "execution_count": null,
   "metadata": {},
   "outputs": [],
   "source": [
    "kick = pd.get_dummies(kick, columns=['main_category','country'])\n",
    "kick.head()"
   ]
  },
  {
   "cell_type": "markdown",
   "metadata": {},
   "source": [
    "# ◆日付データの変換  \n",
    "'launched'プロジェクト開始日と、'deadline'からプロジェクトの期間を算出可能。説明変数として利用する。  \n"
   ]
  },
  {
   "cell_type": "code",
   "execution_count": null,
   "metadata": {},
   "outputs": [],
   "source": [
    "#datetime64[ns]型に変換\n",
    "kick['deadline'] = pd.to_datetime(kick['deadline'], format='%Y-%m-%d %H:%M:%S')\n",
    "kick['launched'] = pd.to_datetime(kick['launched'], format='%Y-%m-%d %H:%M:%S')\n",
    "\n",
    "#日単位で差分を計算し、新しい列'period'として追加\n",
    "kick['period']=(kick['deadline']-kick['launched']).astype('timedelta64[D]') \n",
    "\n",
    "#不要列の削除(deadlineはその時点の景気情報等を含んでいる可能性があるため残す)\n",
    "drop_columns = ['launched']\n",
    "kick = kick.drop(drop_columns, axis = 1)\n",
    "kick.head()\n"
   ]
  },
  {
   "cell_type": "markdown",
   "metadata": {},
   "source": [
    "# ◆無相関化と標準化\n",
    "\n",
    "'usd_goal_real'と'period'が量的変数のため、無相関化、標準化の要否を検討する。\n",
    "\n",
    "まず、上記２変数の相関係数を確認する。"
   ]
  },
  {
   "cell_type": "code",
   "execution_count": null,
   "metadata": {},
   "outputs": [],
   "source": [
    "df=kick[['usd_goal_real','period']]\n",
    "display(df.corr())\n",
    "sns.heatmap(df.corr(),cmap=\"summer\")"
   ]
  },
  {
   "cell_type": "markdown",
   "metadata": {},
   "source": [
    "上記の通り相関関係がない事が分かったため、無相関化は不要と判断。\n",
    "\n",
    "次に標準化については、２変数の絶対値に差があるか確認する。"
   ]
  },
  {
   "cell_type": "code",
   "execution_count": null,
   "metadata": {},
   "outputs": [],
   "source": [
    "display(df.describe())"
   ]
  },
  {
   "cell_type": "markdown",
   "metadata": {},
   "source": [
    "上記の通り、差がある事が確認されたため、標準化を行う。ただし、学習用データに対して行う必要があるため、学習用データとテスト用データに分割した後に標準化を行う事とする"
   ]
  },
  {
   "cell_type": "markdown",
   "metadata": {},
   "source": [
    "# ◆正解ラベルの変換  \n"
   ]
  },
  {
   "cell_type": "code",
   "execution_count": null,
   "metadata": {},
   "outputs": [],
   "source": [
    "# stateについて，live（実施中）は取り除き，successful = 1，それ以外 = 0とする\n",
    "#  ※ここは変更しないこと\n",
    "kick = kick[kick[\"state\"]!=\"live\"]\n",
    "kick[\"state\"] = kick[\"state\"]==\"successful\"\n"
   ]
  },
  {
   "cell_type": "markdown",
   "metadata": {},
   "source": [
    "# ◆説明変数データ(X)と、正解ラベル(y)に分割"
   ]
  },
  {
   "cell_type": "code",
   "execution_count": null,
   "metadata": {},
   "outputs": [],
   "source": [
    "#X = kick[kick.columns[1:]]\n",
    "#y = kick[kick.columns[0]]\n",
    "\n",
    "#正解ラベル以外をXに、正解ラベルをyに設定\n",
    "y = kick['state']\n",
    "X = kick.drop('state', axis =1)"
   ]
  },
  {
   "cell_type": "markdown",
   "metadata": {},
   "source": [
    "# ◆学習用データとテスト用データに分割  \n",
    "①まずは学習用データとテスト用データを分割する  \n",
    "②分割方法は通し課題の共通設定に合わせて、ホールドアウト法を採用  "
   ]
  },
  {
   "cell_type": "code",
   "execution_count": null,
   "metadata": {},
   "outputs": [],
   "source": [
    "test_size = 0.2\n",
    "X_train, X_test, y_train, y_test = train_test_split(X, y, test_size=test_size, random_state=1234)"
   ]
  },
  {
   "cell_type": "markdown",
   "metadata": {},
   "source": [
    "# ◆標準化\n",
    "'usd_goal_real'と'period'の標準化を行う。  \n",
    "ただし、テスト用データの標準化は、学習用データから算出された平均および標準偏差を使用する。  \n",
    "(テスト用データは予見不可なデータの扱いであり、その統計量は知り得ないため)\n"
   ]
  },
  {
   "cell_type": "code",
   "execution_count": null,
   "metadata": {},
   "outputs": [],
   "source": [
    "#学習用データから平均および標準偏差を算出\n",
    "t_me_goal = np.mean(X_train['usd_goal_real'])\n",
    "t_std_goal = np.std(X_train['usd_goal_real'])\n",
    "t_me_period = np.mean(X_train['period'])\n",
    "t_std_period = np.std(X_train['period'])\n",
    "t_me_buzz = np.mean(X_train['buzz'])\n",
    "t_std_buzz = np.std(X_train['buzz'])\n",
    "\n",
    "#学習用データの標準化\n",
    "X_train['usd_goal_real'] = (X_train['usd_goal_real'] - t_me_goal) / t_std_goal\n",
    "X_train['period'] = (X_train['period'] - t_me_period) / t_std_period\n",
    "X_train['buzz'] = (X_train['buzz'] - t_me_buzz) / t_std_buzz\n",
    "\n",
    "#テスト用データの標準化\n",
    "X_test['usd_goal_real'] = (X_test['usd_goal_real'] - t_me_goal) / t_std_goal\n",
    "X_test['period'] = (X_test['period'] - t_me_period) / t_std_period\n",
    "X_test['buzz'] = (X_test['buzz'] - t_me_buzz) / t_std_buzz\n",
    "\n",
    "\n"
   ]
  },
  {
   "cell_type": "markdown",
   "metadata": {},
   "source": [
    "# ◆ハイパーパラメータの最適値探索  \n",
    "  \n",
    "  GridSearchを使用し、学習時に使用するハイパーパラメータの最適値を探索する。  \n",
    "  今回使用するSVMでは、学習に数時間を要するため、GridSerch実行時の学習用データは一部のデータにて限定し探索する    \n",
    "  学習時は探索で得られたハイパーパラメータにて、全学習用データを用いた学習を行う事とする。  "
   ]
  },
  {
   "cell_type": "code",
   "execution_count": null,
   "metadata": {},
   "outputs": [],
   "source": [
    "%%time\n",
    "\n",
    "#GridSearch用データの抽出(1,０００件)\n",
    "X_train_gs = X_train.sample(n=1000)\n",
    "y_train_gs = y_train.sample(n=1000)\n",
    "\n",
    "\n",
    "param_grid = {'C': np.logspace(-3, 2, num=6), 'gamma': np.logspace(-3, 2, num=6)}\n",
    "model = SVC()\n",
    "\n",
    "clf = GridSearchCV(model, param_grid, cv=5)\n",
    "clf.fit(X_train_gs, y_train_gs)\n",
    "\n",
    "print('交差検証法スコア：{:.3f}' .format(clf.best_score_))\n",
    "print('最適パラメータ：{}' .format(clf.best_params_))\n",
    "\n"
   ]
  },
  {
   "cell_type": "markdown",
   "metadata": {},
   "source": [
    "# ◆SVMモデルによる学習、評価"
   ]
  },
  {
   "cell_type": "code",
   "execution_count": null,
   "metadata": {},
   "outputs": [],
   "source": [
    "%%time\n",
    "# SVMの実行\n",
    "\n",
    "C = 5\n",
    "kernel = \"rbf\"\n",
    "gamma = 1\n",
    "clf = SVC(C=C, kernel=kernel, gamma=gamma)\n",
    "clf.fit(X_train, y_train)\n"
   ]
  },
  {
   "cell_type": "markdown",
   "metadata": {},
   "source": [
    "# ◆性能指標測定  \n",
    "  \n",
    "  ①学習余地が残っているか確認するため、X_trainについて計測  \n",
    "  ②汎化性能測定のために、X_testについて計測"
   ]
  },
  {
   "cell_type": "code",
   "execution_count": null,
   "metadata": {},
   "outputs": [],
   "source": [
    "#X_trainの性能指標計測\n",
    "print('＜X_trainの性能指標＞')\n",
    "\n",
    "# ラベルを予測\n",
    "y_train_pred = clf.predict(X_train)\n",
    "\n",
    "# 正答率を計算\n",
    "accuracy =  accuracy_score(y_train, y_train_pred)\n",
    "print('正答率（Accuracy） = {:.3f}%'.format(100 * accuracy))\n",
    "\n",
    "# Precision, Recall, F1-scoreを計算\n",
    "precision, recall, f1_score, _ = precision_recall_fscore_support(y_train, y_train_pred)\n",
    "\n",
    "# カテゴリ「2000万以上」に関するPrecision, Recall, F1-scoreを表示\n",
    "print('適合率（Precision） = {:.3f}%'.format(100 * precision[0]))\n",
    "print('再現率（Recall） = {:.3f}%'.format(100 * recall[0]))\n",
    "print('F1値（F1-score） = {:.3f}%'.format(100 * f1_score[0]))\n",
    "\n",
    "\n",
    "#X_testの性能指標計測\n",
    "print('＜X_testの性能指標＞')\n",
    "\n",
    "# ラベルを予測\n",
    "y_test_pred = clf.predict(X_test)\n",
    "\n",
    "# 正答率を計算\n",
    "accuracy =  accuracy_score(y_test, y_test_pred)\n",
    "print('正答率（Accuracy） = {:.3f}%'.format(100 * accuracy))\n",
    "\n",
    "# Precision, Recall, F1-scoreを計算\n",
    "precision, recall, f1_score, _ = precision_recall_fscore_support(y, y_pred)\n",
    "\n",
    "# カテゴリ「2000万以上」に関するPrecision, Recall, F1-scoreを表示\n",
    "print('適合率（Precision） = {:.3f}%'.format(100 * precision[0]))\n",
    "print('再現率（Recall） = {:.3f}%'.format(100 * recall[0]))\n",
    "print('F1値（F1-score） = {:.3f}%'.format(100 * f1_score[0]))"
   ]
  },
  {
   "cell_type": "code",
   "execution_count": null,
   "metadata": {},
   "outputs": [],
   "source": [
    "# 予測値と正解のクロス集計\n",
    "conf_mat = pd.DataFrame(confusion_matrix(y_test, y_test_pred), \n",
    "                        index=['正解 = Other', '正解 = Successful'], \n",
    "                        columns=['予測 = Other', '予測 = Successful'])\n",
    "conf_mat"
   ]
  },
  {
   "cell_type": "markdown",
   "metadata": {},
   "source": [
    "# ◆今後の改善点\n",
    "\n",
    "・特定項目だけに標準化を適用できなかった。また、学習用データで標準化を行った後にその係数をテスト用データに適用する具体的な方法が現状不明。\n",
    "\n",
    "・SVMのハイパーパラメータの最適化のためのGridSearchが実施できていない。\n",
    "\n",
    "・データ可視化が不足している。（やり方は分かっているが時間切れ）\n",
    "\n",
    "・SVMによる学習を実行したが、５時間経過しても終了せず。ハイパーパラメータに問題があったか、前処理によるデータ整形に問題があったのか不明。"
   ]
  },
  {
   "cell_type": "code",
   "execution_count": null,
   "metadata": {},
   "outputs": [],
   "source": []
  }
 ],
 "metadata": {
  "kernelspec": {
   "display_name": "Python 3",
   "language": "python",
   "name": "python3"
  },
  "language_info": {
   "codemirror_mode": {
    "name": "ipython",
    "version": 3
   },
   "file_extension": ".py",
   "mimetype": "text/x-python",
   "name": "python",
   "nbconvert_exporter": "python",
   "pygments_lexer": "ipython3",
   "version": "3.7.3"
  }
 },
 "nbformat": 4,
 "nbformat_minor": 2
}
