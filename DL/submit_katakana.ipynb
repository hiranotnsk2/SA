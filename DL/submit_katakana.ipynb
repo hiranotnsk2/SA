{
 "cells": [
  {
   "cell_type": "markdown",
   "metadata": {},
   "source": [
    "# カタカナ15文字を自動識別するモデルの構築\n",
    "# 課題投稿用Notebook\n",
    "* これは課題投稿用ファイルです。\n",
    "* このsubmit_katakana.ipynbファイルを編集し、学習済みモデルなどの必要ファイルを同じフォルダにおき、そのフォルダをzipしたものを投稿してください。"
   ]
  },
  {
   "cell_type": "code",
   "execution_count": 1,
   "metadata": {},
   "outputs": [
    {
     "name": "stdout",
     "output_type": "stream",
     "text": [
      "0\n",
      "2.34993254783361 0.5192\n",
      "1\n",
      "2.304296211631948 0.4108\n",
      "2\n",
      "2.1526319806263285 0.36133333333333334\n",
      "Test loss: 2.268953580030629\n",
      "Test accuracy: 0.4304444444444444\n"
     ]
    }
   ],
   "source": [
    "import numpy as np\n",
    "import glob\n",
    "import os,sys\n",
    "import util\n",
    "import pickle\n",
    "import keras\n",
    "from keras.models import Sequential\n",
    "from keras.layers import Dense, Dropout, Flatten, Conv2D, MaxPooling2D\n",
    "from keras.optimizers import Adam\n",
    "from keras.models import load_model\n",
    "\n",
    "#from common.deep_convnet import DeepConvNet\n",
    "#from common.keras_deep import DeepConvNet\n",
    "\n",
    "def makedataset():\n",
    "    \"\"\"\n",
    "    データセットをつくる関数です。\n",
    "    自由に編集してください。\n",
    "    \"\"\"\n",
    "    \n",
    "    # 次の行は変更しないこと\n",
    "    test_data= util.loaddata()\n",
    "    \n",
    "    # 以下は自由に編集しても構いません\n",
    "    # 必要な前処理をここに記述してください  \n",
    "    \n",
    "    # 正規化\n",
    "    test_data = (test_data - test_data.min()) / (test_data.max() - test_data.min())\n",
    "    test_data = test_data.astype('float64')\n",
    "\n",
    "    # 配列形式変更\n",
    "    #test_data = test_data.reshape(-1,1,28,28)\n",
    "    test_data = test_data.transpose(0, 2, 3, 1) \n",
    "\n",
    "    return test_data\n",
    "\n",
    "\n",
    "def func_predict(test_data, test_label):\n",
    "    \"\"\"\n",
    "    予測する関数\n",
    "    data : 画像データ\n",
    "    return loss, accuracy\n",
    "    引数とreturn以外は、自由に編集してください    \n",
    "    \"\"\"\n",
    "    \n",
    "    # 以下を自由に編集してください\n",
    "    #with open(\"katakana_model.pickle\", \"rb\") as f:\n",
    "    #    model = pickle.load(f)\n",
    "    \n",
    "    #model = DeepConvNet()\n",
    "    #model.load_params(\"deep_convnet_params.pkl\")\n",
    "    \n",
    "    model = load_model(\"model.h5\")\n",
    "    \n",
    "    # result\n",
    "    score = model.evaluate(test_data, test_label, verbose=0)\n",
    "    loss = score[0]\n",
    "    accuracy = score[1]\n",
    "    \n",
    "    #accuracy = model.accuracy(test_data, test_label)\n",
    "    #loss  = model.loss(test_data, test_label)\n",
    "    \n",
    "    return loss, accuracy # 編集不可\n",
    "\n",
    "\n",
    "def main():\n",
    "    \"\"\"\n",
    "    編集しないでください。\n",
    "    \"\"\"\n",
    "    # テスト用データをつくる\n",
    "    test_data = makedataset()\n",
    "\n",
    "    # 予測し精度を算出する\n",
    "    util.accuracy(func_predict, test_data)\n",
    "    \n",
    "    return\n",
    "\n",
    "\n",
    "if __name__==\"__main__\":\n",
    "    main()"
   ]
  },
  {
   "cell_type": "code",
   "execution_count": null,
   "metadata": {},
   "outputs": [],
   "source": []
  }
 ],
 "metadata": {
  "kernelspec": {
   "display_name": "Python 3",
   "language": "python",
   "name": "python3"
  },
  "language_info": {
   "codemirror_mode": {
    "name": "ipython",
    "version": 3
   },
   "file_extension": ".py",
   "mimetype": "text/x-python",
   "name": "python",
   "nbconvert_exporter": "python",
   "pygments_lexer": "ipython3",
   "version": "3.7.3"
  }
 },
 "nbformat": 4,
 "nbformat_minor": 2
}
