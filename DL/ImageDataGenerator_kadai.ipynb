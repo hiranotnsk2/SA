{
 "cells": [
  {
   "cell_type": "markdown",
   "metadata": {},
   "source": [
    "# ImageDataGeneratorを用いたデータ拡張\n",
    "https://keras.io/preprocessing/image/"
   ]
  },
  {
   "cell_type": "code",
   "execution_count": 2,
   "metadata": {},
   "outputs": [
    {
     "name": "stderr",
     "output_type": "stream",
     "text": [
      "Using TensorFlow backend.\n"
     ]
    }
   ],
   "source": [
    "import numpy as np\n",
    "from PIL import Image\n",
    "from keras.preprocessing.image import ImageDataGenerator\n",
    "import os\n",
    "import shutil\n",
    "import glob\n",
    "import matplotlib.pyplot as plt\n",
    "from matplotlib import cm"
   ]
  },
  {
   "cell_type": "markdown",
   "metadata": {},
   "source": [
    "## numpy形式の画像を拡張する場合"
   ]
  },
  {
   "cell_type": "code",
   "execution_count": 3,
   "metadata": {},
   "outputs": [],
   "source": [
    "# 画像読み込み\n",
    "data = np.load(\"/Users/hiranot/SkillUpAI_DL/DAY1_vr5_0_0/4_kadai/1_data/train_data.npy\")  # パスは適宜変更すること\n",
    "label = np.load(\"/Users/hiranot/SkillUpAI_DL/DAY1_vr5_0_0/4_kadai/1_data/train_label.npy\")  # パスは適宜変更すること\n",
    "\n",
    "dir_list = glob.glob(\"/Users/hiranot/SkillUpAI_DL/DAY1_vr5_0_0/4_kadai/2_notebook/output_*\")\n",
    " \n",
    "for rdir in dir_list:\n",
    "    shutil.rmtree(rdir)\n",
    "\n",
    "#print(label[0])\n",
    "#print(label[1])\n",
    "#print(label[2])\n",
    "    \n",
    "# 文字種毎にデータ抽出、データ拡張\n",
    "for i in range(15):\n",
    "    index = np.where(label[:, i] == 1)\n",
    "#    print(index)\n",
    "#    print(label[index])\n",
    "    data_c = data[index[0]]\n",
    "#    print(data_c.shape)\n",
    "\n",
    "#    for j in range(200):\n",
    "#        img = data_c[j,:,:,:,]\n",
    "#        plt.imshow(img[0,:,:], cmap='gray')\n",
    "#        plt.show()\n",
    "    \n",
    "    # 軸をN,H,W,Cに入れ替え\n",
    "    data_c = data_c.transpose(0,2,3,1)\n",
    "\n",
    "\n",
    "    # ImageDataGeneratorのオブジェクト生成\n",
    "    datagen = ImageDataGenerator(\n",
    "            shear_range=0.2,\n",
    "            zoom_range=0.2,\n",
    "            #height_shift_range=0.2,\n",
    "            #width_shift_range=0.2,\n",
    "            rotation_range=15)\n",
    "\n",
    "    # 生成後枚数\n",
    "    num_image = 4000\n",
    "    \n",
    "    save_path = \"/Users/hiranot/SkillUpAI_DL/DAY1_vr5_0_0/4_kadai/2_notebook/output_%s/\"%i\n",
    "    os.mkdir(save_path)\n",
    "    \n",
    "    # 生成\n",
    "    g = datagen.flow(data_c, batch_size=1, save_to_dir=save_path, save_format='png', save_prefix='out_a_from_npy_')\n",
    "    for k in range(num_image):\n",
    "        batches = g.next()\n",
    "\n",
    "# 1種類目の文字を抽出\n",
    "#index = np.where(label[:, 0] == 1)\n",
    "#data_c = data[index[0]]\n",
    "#print(data_c.shape)\n",
    "\n",
    "# 軸をN,H,W,Cに入れ替え\n",
    "#data = data.transpose(0,2,3,1)\n",
    "\n",
    "## ImageDataGeneratorのオブジェクト生成\n",
    "#datagen = ImageDataGenerator(\n",
    "#        rescale=1./255,\n",
    "#        shear_range=0.2,\n",
    "#        zoom_range=0.2,\n",
    "#        horizontal_flip=True)\n",
    "\n",
    "# ImageDataGeneratorのオブジェクト生成\n",
    "#datagen = ImageDataGenerator(\n",
    "#        shear_range=0.2,\n",
    "#        zoom_range=0.2,\n",
    "#        rotation_range=15)\n",
    "\n",
    "# 生成後枚数\n",
    "#num_image = 10000\n",
    "\n",
    "# 生成\n",
    "#g = datagen.flow(data, batch_size=1, save_to_dir=\"/Users/hiranot/SkillUpAI_DL/DAY1_vr5_0_0/4_kadai/2_notebook/output/\", save_format='png', save_prefix='out_a_from_npy_')\n",
    "#for i in range(num_image):\n",
    "#        batches = g.next()\n",
    "        "
   ]
  },
  {
   "cell_type": "markdown",
   "metadata": {},
   "source": [
    "# 拡張後の画像ファイルを配列に変換"
   ]
  },
  {
   "cell_type": "code",
   "execution_count": 4,
   "metadata": {},
   "outputs": [
    {
     "name": "stderr",
     "output_type": "stream",
     "text": [
      "  0%|          | 0/3997 [00:00<?, ?it/s]/Users/hiranot/anaconda3/lib/python3.7/site-packages/keras_preprocessing/image/utils.py:104: UserWarning: grayscale is deprecated. Please use color_mode = \"grayscale\"\n",
      "  warnings.warn('grayscale is deprecated. Please use '\n",
      "100%|██████████| 3997/3997 [00:01<00:00, 2189.91it/s]\n",
      "  5%|▌         | 218/3995 [00:00<00:01, 2179.13it/s]"
     ]
    },
    {
     "name": "stdout",
     "output_type": "stream",
     "text": [
      "(3997, 28, 28, 1)\n"
     ]
    },
    {
     "name": "stderr",
     "output_type": "stream",
     "text": [
      "100%|██████████| 3995/3995 [00:01<00:00, 2396.41it/s]\n",
      "  5%|▌         | 209/3993 [00:00<00:01, 2087.62it/s]"
     ]
    },
    {
     "name": "stdout",
     "output_type": "stream",
     "text": [
      "(3995, 28, 28, 1)\n"
     ]
    },
    {
     "name": "stderr",
     "output_type": "stream",
     "text": [
      "100%|██████████| 3993/3993 [00:01<00:00, 2670.86it/s]\n",
      "  5%|▌         | 212/3997 [00:00<00:01, 2111.79it/s]"
     ]
    },
    {
     "name": "stdout",
     "output_type": "stream",
     "text": [
      "(3993, 28, 28, 1)\n"
     ]
    },
    {
     "name": "stderr",
     "output_type": "stream",
     "text": [
      "100%|██████████| 3997/3997 [00:01<00:00, 2000.59it/s]\n",
      "  0%|          | 0/3999 [00:00<?, ?it/s]"
     ]
    },
    {
     "name": "stdout",
     "output_type": "stream",
     "text": [
      "(3997, 28, 28, 1)\n"
     ]
    },
    {
     "name": "stderr",
     "output_type": "stream",
     "text": [
      "100%|██████████| 3999/3999 [00:03<00:00, 1325.17it/s]\n"
     ]
    },
    {
     "name": "stdout",
     "output_type": "stream",
     "text": [
      "(3999, 28, 28, 1)\n"
     ]
    },
    {
     "name": "stderr",
     "output_type": "stream",
     "text": [
      "100%|██████████| 3997/3997 [00:02<00:00, 1374.46it/s]\n",
      "  0%|          | 0/3998 [00:00<?, ?it/s]"
     ]
    },
    {
     "name": "stdout",
     "output_type": "stream",
     "text": [
      "(3997, 28, 28, 1)\n"
     ]
    },
    {
     "name": "stderr",
     "output_type": "stream",
     "text": [
      "100%|██████████| 3998/3998 [00:02<00:00, 1353.33it/s]\n"
     ]
    },
    {
     "name": "stdout",
     "output_type": "stream",
     "text": [
      "(3998, 28, 28, 1)\n"
     ]
    },
    {
     "name": "stderr",
     "output_type": "stream",
     "text": [
      "100%|██████████| 3998/3998 [00:02<00:00, 1394.93it/s]\n",
      "  0%|          | 0/3997 [00:00<?, ?it/s]"
     ]
    },
    {
     "name": "stdout",
     "output_type": "stream",
     "text": [
      "(3998, 28, 28, 1)\n"
     ]
    },
    {
     "name": "stderr",
     "output_type": "stream",
     "text": [
      "100%|██████████| 3997/3997 [00:02<00:00, 1739.86it/s]\n"
     ]
    },
    {
     "name": "stdout",
     "output_type": "stream",
     "text": [
      "(3997, 28, 28, 1)\n"
     ]
    },
    {
     "name": "stderr",
     "output_type": "stream",
     "text": [
      "100%|██████████| 3996/3996 [00:02<00:00, 1408.93it/s]\n"
     ]
    },
    {
     "name": "stdout",
     "output_type": "stream",
     "text": [
      "(3996, 28, 28, 1)\n"
     ]
    },
    {
     "name": "stderr",
     "output_type": "stream",
     "text": [
      "100%|██████████| 3998/3998 [00:03<00:00, 1140.09it/s]\n"
     ]
    },
    {
     "name": "stdout",
     "output_type": "stream",
     "text": [
      "(3998, 28, 28, 1)\n"
     ]
    },
    {
     "name": "stderr",
     "output_type": "stream",
     "text": [
      "100%|██████████| 3994/3994 [00:03<00:00, 1133.22it/s]\n"
     ]
    },
    {
     "name": "stdout",
     "output_type": "stream",
     "text": [
      "(3994, 28, 28, 1)\n"
     ]
    },
    {
     "name": "stderr",
     "output_type": "stream",
     "text": [
      "100%|██████████| 3998/3998 [00:02<00:00, 1397.79it/s]\n"
     ]
    },
    {
     "name": "stdout",
     "output_type": "stream",
     "text": [
      "(3998, 28, 28, 1)\n"
     ]
    },
    {
     "name": "stderr",
     "output_type": "stream",
     "text": [
      "100%|██████████| 3997/3997 [00:03<00:00, 1325.51it/s]\n"
     ]
    },
    {
     "name": "stdout",
     "output_type": "stream",
     "text": [
      "(3997, 28, 28, 1)\n"
     ]
    },
    {
     "name": "stderr",
     "output_type": "stream",
     "text": [
      "100%|██████████| 3997/3997 [00:02<00:00, 1366.76it/s]\n"
     ]
    },
    {
     "name": "stdout",
     "output_type": "stream",
     "text": [
      "(3997, 28, 28, 1)\n",
      "(59951, 28, 28, 1)\n"
     ]
    }
   ],
   "source": [
    "import glob\n",
    "from keras.preprocessing.image import load_img,img_to_array\n",
    "from tqdm import tqdm\n",
    "\n",
    "IMG_SIZE=28\n",
    "#True=Grayscale, False=RGB\n",
    "COLOR=True\n",
    "#Name to save\n",
    "SAVE_FILE_NAME='SaveImages'\n",
    "#shape File Name\n",
    "if COLOR:\n",
    "    SAVE_FILE_NAME=SAVE_FILE_NAME+'_'+str(IMG_SIZE)+'Gray'\n",
    "else:\n",
    "    SAVE_FILE_NAME=SAVE_FILE_NAME+'_'+str(IMG_SIZE)+'RGB'\n",
    "\n",
    "merge_array = np.empty([0,28,28,1])    \n",
    "\n",
    "for l in range(15):\n",
    "    \n",
    "    #Name to load images Folder\n",
    "    DIR_NAME='./output_%s'%l\n",
    "    \n",
    "    #load madomagi images and reshape\n",
    "    img_list=glob.glob(DIR_NAME+'/*.png')\n",
    "    temp_img_array_list=[]\n",
    "    for img in tqdm(img_list):\n",
    "        temp_img=load_img(img,grayscale=COLOR,target_size=(IMG_SIZE,IMG_SIZE))\n",
    "        temp_img_array=img_to_array(temp_img)\n",
    "        temp_img_array_list.append(temp_img_array)\n",
    "\n",
    "    temp_img_array_list=np.array(temp_img_array_list)\n",
    "    \n",
    "    print(temp_img_array_list.shape)\n",
    "\n",
    "    merge_array = np.concatenate([merge_array, temp_img_array_list])\n",
    "    \n",
    "    #save np.array\n",
    "    #SAVE_ARFILE_NAME =  SAVE_FILE_NAME+\"_%s\"%l+'.npy'\n",
    "    #np.save(SAVE_ARFILE_NAME,temp_img_array_list)\n",
    "\n",
    "print(merge_array.shape)\n",
    "merge_array = merge_array.transpose(0,3,1,2)\n",
    "#SAVE_MR_ARFILE_NAME =  SAVE_FILE_NAME+\"_MR\"+'.npy'\n",
    "np.save(\"train_data_mr.npy\",merge_array)\n",
    "    \n",
    "#confirmation\n",
    "#print(temp_img_array_list)\n",
    "#print(temp_img_array_list.shape)"
   ]
  },
  {
   "cell_type": "markdown",
   "metadata": {},
   "source": [
    "# アレイ型ファイルから画像データを読み込み、表示"
   ]
  },
  {
   "cell_type": "code",
   "execution_count": 5,
   "metadata": {},
   "outputs": [
    {
     "data": {
      "image/png": "[encoded data removed]",
      "text/plain": [
       "<Figure size 432x288 with 1 Axes>"
      ]
     },
     "metadata": {
      "needs_background": "light"
     },
     "output_type": "display_data"
    }
   ],
   "source": [
    "tmp_data = np.load(\"./SaveImages_28Gray_MR.npy\")\n",
    "#train_label = np.load(\"../1_data/train_label.npy\")\n",
    "#print(tmp_data.shape)\n",
    "tmp_data = tmp_data.transpose(0,3,1,2)\n",
    "#print(train_label.shape)\n",
    "\n",
    "ind = 0\n",
    "\n",
    "#print(tmp_data[0])\n",
    "# 画像\n",
    "img = tmp_data[ind,:,:,:,]\n",
    "plt.imshow(img[0,:,:], cmap='gray')\n",
    "plt.show()\n",
    "\n",
    "# ラベル\n",
    "#label_int = np.argmax(train_label [ind])\n",
    "#for key, value in dic_katakana.items():\n",
    "#    if value==label_int:\n",
    "#        label_str = key\n",
    "#        break\n",
    "\n",
    "# 出力\n",
    "#img = Image.fromarray(np.uint8(img.reshape(28,28)))\n",
    "#img.save(\"%s.png\"%label_str)\n"
   ]
  },
  {
   "cell_type": "markdown",
   "metadata": {},
   "source": [
    "# 正解ラベル作成"
   ]
  },
  {
   "cell_type": "code",
   "execution_count": 6,
   "metadata": {},
   "outputs": [],
   "source": [
    "label_count = []\n",
    "\n",
    "for i in range(15):\n",
    "    path = \"/Users/hiranot/SkillUpAI_DL/DAY1_vr5_0_0/4_kadai/2_notebook/output_%s\"%i\n",
    "    files = os.listdir(path)  \n",
    "    count = len(files)\n",
    "    label_count.append(count)\n",
    "    #print(label_count)  \n",
    "\n",
    "char_a=np.array([1,0,0,0,0,0,0,0,0,0,0,0,0,0,0])\n",
    "char_i=np.array([0,1,0,0,0,0,0,0,0,0,0,0,0,0,0])\n",
    "char_u=np.array([0,0,1,0,0,0,0,0,0,0,0,0,0,0,0])\n",
    "char_e=np.array([0,0,0,1,0,0,0,0,0,0,0,0,0,0,0])\n",
    "char_o=np.array([0,0,0,0,1,0,0,0,0,0,0,0,0,0,0])\n",
    "char_ka=np.array([0,0,0,0,0,1,0,0,0,0,0,0,0,0,0])\n",
    "char_ki=np.array([0,0,0,0,0,0,1,0,0,0,0,0,0,0,0])\n",
    "char_ku=np.array([0,0,0,0,0,0,0,1,0,0,0,0,0,0,0])\n",
    "char_ke=np.array([0,0,0,0,0,0,0,0,1,0,0,0,0,0,0])\n",
    "char_ko=np.array([0,0,0,0,0,0,0,0,0,1,0,0,0,0,0])\n",
    "char_sa=np.array([0,0,0,0,0,0,0,0,0,0,1,0,0,0,0])\n",
    "char_si=np.array([0,0,0,0,0,0,0,0,0,0,0,1,0,0,0])\n",
    "char_su=np.array([0,0,0,0,0,0,0,0,0,0,0,0,1,0,0])\n",
    "char_se=np.array([0,0,0,0,0,0,0,0,0,0,0,0,0,1,0])\n",
    "char_so=np.array([0,0,0,0,0,0,0,0,0,0,0,0,0,0,1])\n",
    "                         \n",
    "for i in range(15):\n",
    "    if i == 0:\n",
    "        array_a = np.tile(char_a,(label_count[i],1))\n",
    "    if i == 1:\n",
    "        array_i = np.tile(char_i,(label_count[i],1))\n",
    "    if i == 2:\n",
    "        array_u = np.tile(char_u,(label_count[i],1))\n",
    "    if i == 3:\n",
    "        array_e = np.tile(char_e,(label_count[i],1))\n",
    "    if i == 4:\n",
    "        array_o = np.tile(char_o,(label_count[i],1))\n",
    "    if i == 5:\n",
    "        array_ka = np.tile(char_ka,(label_count[i],1))\n",
    "    if i == 6:\n",
    "        array_ki = np.tile(char_ki,(label_count[i],1))\n",
    "    if i == 7:\n",
    "        array_ku = np.tile(char_ku,(label_count[i],1))\n",
    "    if i == 8:\n",
    "        array_ke = np.tile(char_ke,(label_count[i],1))\n",
    "    if i == 9:\n",
    "        array_ko = np.tile(char_ko,(label_count[i],1))\n",
    "    if i == 10:\n",
    "        array_sa = np.tile(char_sa,(label_count[i],1))\n",
    "    if i == 11:\n",
    "        array_si = np.tile(char_si,(label_count[i],1))\n",
    "    if i == 12:\n",
    "        array_su = np.tile(char_su,(label_count[i],1))\n",
    "    if i == 13:\n",
    "        array_se = np.tile(char_se,(label_count[i],1))\n",
    "    if i == 14:\n",
    "        array_so = np.tile(char_so,(label_count[i],1))\n",
    "\n",
    "label_data_mr = np.concatenate([array_a, array_i, array_u, array_e, array_o, array_ka, array_ki, array_ku, array_ke, array_ko, array_sa, array_si, array_su, array_se, array_so])\n",
    "#print(label_data_mr)\n",
    "\n",
    "np.save(\"train_label_mr.npy\",label_data_mr)\n"
   ]
  },
  {
   "cell_type": "code",
   "execution_count": null,
   "metadata": {},
   "outputs": [],
   "source": []
  }
 ],
 "metadata": {
  "kernelspec": {
   "display_name": "Python 3",
   "language": "python",
   "name": "python3"
  },
  "language_info": {
   "codemirror_mode": {
    "name": "ipython",
    "version": 3
   },
   "file_extension": ".py",
   "mimetype": "text/x-python",
   "name": "python",
   "nbconvert_exporter": "python",
   "pygments_lexer": "ipython3",
   "version": "3.7.3"
  }
 },
 "nbformat": 4,
 "nbformat_minor": 2
}
