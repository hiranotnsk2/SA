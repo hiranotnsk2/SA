{
 "cells": [
  {
   "cell_type": "markdown",
   "metadata": {},
   "source": [
    "# ImageDataGeneratorを用いたデータ拡張\n",
    "https://keras.io/preprocessing/image/"
   ]
  },
  {
   "cell_type": "code",
   "execution_count": 1,
   "metadata": {},
   "outputs": [
    {
     "name": "stderr",
     "output_type": "stream",
     "text": [
      "Using TensorFlow backend.\n"
     ]
    }
   ],
   "source": [
    "import numpy as np\n",
    "from PIL import Image\n",
    "from keras.preprocessing.image import ImageDataGenerator,load_img,img_to_array\n",
    "import os\n",
    "import shutil\n",
    "import glob\n",
    "import matplotlib.pyplot as plt\n",
    "from matplotlib import cm\n",
    "from tqdm import tqdm\n"
   ]
  },
  {
   "cell_type": "markdown",
   "metadata": {},
   "source": [
    "## numpy形式の画像を拡張する場合"
   ]
  },
  {
   "cell_type": "code",
   "execution_count": 2,
   "metadata": {},
   "outputs": [],
   "source": [
    "# 画像読み込み\n",
    "data = np.load(\"/Users/hiranot/SkillUpAI_DL/DAY1_vr5_0_0/4_kadai/1_data/train_data.npy\")  # パスは適宜変更すること\n",
    "label = np.load(\"/Users/hiranot/SkillUpAI_DL/DAY1_vr5_0_0/4_kadai/1_data/train_label.npy\")  # パスは適宜変更すること\n",
    "\n",
    "dir_list = glob.glob(\"/Users/hiranot/SkillUpAI_DL/DAY1_vr5_0_0/4_kadai/2_notebook/output_*\")\n",
    " \n",
    "for rdir in dir_list:\n",
    "    shutil.rmtree(rdir)\n",
    "\n",
    "    \n",
    "# 文字種毎にデータ抽出、データ拡張\n",
    "for i in range(15):\n",
    "    index = np.where(label[:, i] == 1)\n",
    "    data_c = data[index[0]]\n",
    "    \n",
    "    # 軸をN,H,W,Cに入れ替え\n",
    "    data_c = data_c.transpose(0,2,3,1)\n",
    "\n",
    "\n",
    "    # ImageDataGeneratorのオブジェクト生成\n",
    "    datagen = ImageDataGenerator(\n",
    "            shear_range=0.2,\n",
    "            zoom_range=0.2,\n",
    "            rotation_range=15)\n",
    "\n",
    "    # 生成後枚数\n",
    "    num_image = 4000\n",
    "    \n",
    "    save_path = \"/Users/hiranot/SkillUpAI_DL/DAY1_vr5_0_0/4_kadai/2_notebook/output_%s/\"%i\n",
    "    os.mkdir(save_path)\n",
    "    \n",
    "    # 生成\n",
    "    g = datagen.flow(data_c, batch_size=1, save_to_dir=save_path, save_format='png', save_prefix='out_a_from_npy_')\n",
    "    for k in range(num_image):\n",
    "        batches = g.next()\n",
    "        "
   ]
  },
  {
   "cell_type": "markdown",
   "metadata": {},
   "source": [
    "# 拡張後の画像ファイルを配列に変換"
   ]
  },
  {
   "cell_type": "code",
   "execution_count": 3,
   "metadata": {},
   "outputs": [
    {
     "name": "stderr",
     "output_type": "stream",
     "text": [
      "  0%|          | 0/3997 [00:00<?, ?it/s]/Users/hiranot/anaconda3/lib/python3.7/site-packages/keras_preprocessing/image/utils.py:104: UserWarning: grayscale is deprecated. Please use color_mode = \"grayscale\"\n",
      "  warnings.warn('grayscale is deprecated. Please use '\n",
      "100%|██████████| 3997/3997 [00:03<00:00, 1299.47it/s]\n",
      "  3%|▎         | 111/3994 [00:00<00:03, 1107.63it/s]"
     ]
    },
    {
     "name": "stdout",
     "output_type": "stream",
     "text": [
      "(3997, 28, 28, 1)\n"
     ]
    },
    {
     "name": "stderr",
     "output_type": "stream",
     "text": [
      "100%|██████████| 3994/3994 [00:02<00:00, 1341.40it/s]\n",
      "  0%|          | 0/3996 [00:00<?, ?it/s]"
     ]
    },
    {
     "name": "stdout",
     "output_type": "stream",
     "text": [
      "(3994, 28, 28, 1)\n"
     ]
    },
    {
     "name": "stderr",
     "output_type": "stream",
     "text": [
      "100%|██████████| 3996/3996 [00:02<00:00, 1346.25it/s]\n",
      "  0%|          | 0/3999 [00:00<?, ?it/s]"
     ]
    },
    {
     "name": "stdout",
     "output_type": "stream",
     "text": [
      "(3996, 28, 28, 1)\n"
     ]
    },
    {
     "name": "stderr",
     "output_type": "stream",
     "text": [
      "100%|██████████| 3999/3999 [00:02<00:00, 1379.49it/s]\n",
      "  0%|          | 0/3997 [00:00<?, ?it/s]"
     ]
    },
    {
     "name": "stdout",
     "output_type": "stream",
     "text": [
      "(3999, 28, 28, 1)\n"
     ]
    },
    {
     "name": "stderr",
     "output_type": "stream",
     "text": [
      "100%|██████████| 3997/3997 [00:02<00:00, 1362.32it/s]\n",
      "  0%|          | 0/3996 [00:00<?, ?it/s]"
     ]
    },
    {
     "name": "stdout",
     "output_type": "stream",
     "text": [
      "(3997, 28, 28, 1)\n"
     ]
    },
    {
     "name": "stderr",
     "output_type": "stream",
     "text": [
      "100%|██████████| 3996/3996 [00:02<00:00, 1356.25it/s]\n"
     ]
    },
    {
     "name": "stdout",
     "output_type": "stream",
     "text": [
      "(3996, 28, 28, 1)\n"
     ]
    },
    {
     "name": "stderr",
     "output_type": "stream",
     "text": [
      "100%|██████████| 3997/3997 [00:02<00:00, 1369.87it/s]\n",
      "  0%|          | 0/3996 [00:00<?, ?it/s]"
     ]
    },
    {
     "name": "stdout",
     "output_type": "stream",
     "text": [
      "(3997, 28, 28, 1)\n"
     ]
    },
    {
     "name": "stderr",
     "output_type": "stream",
     "text": [
      "100%|██████████| 3996/3996 [00:02<00:00, 1345.44it/s]\n"
     ]
    },
    {
     "name": "stdout",
     "output_type": "stream",
     "text": [
      "(3996, 28, 28, 1)\n"
     ]
    },
    {
     "name": "stderr",
     "output_type": "stream",
     "text": [
      "100%|██████████| 3997/3997 [00:02<00:00, 1374.56it/s]\n"
     ]
    },
    {
     "name": "stdout",
     "output_type": "stream",
     "text": [
      "(3997, 28, 28, 1)\n"
     ]
    },
    {
     "name": "stderr",
     "output_type": "stream",
     "text": [
      "100%|██████████| 3997/3997 [00:02<00:00, 1343.00it/s]\n"
     ]
    },
    {
     "name": "stdout",
     "output_type": "stream",
     "text": [
      "(3997, 28, 28, 1)\n"
     ]
    },
    {
     "name": "stderr",
     "output_type": "stream",
     "text": [
      "100%|██████████| 3997/3997 [00:02<00:00, 1423.34it/s]\n"
     ]
    },
    {
     "name": "stdout",
     "output_type": "stream",
     "text": [
      "(3997, 28, 28, 1)\n"
     ]
    },
    {
     "name": "stderr",
     "output_type": "stream",
     "text": [
      "100%|██████████| 3997/3997 [00:02<00:00, 1348.75it/s]\n"
     ]
    },
    {
     "name": "stdout",
     "output_type": "stream",
     "text": [
      "(3997, 28, 28, 1)\n"
     ]
    },
    {
     "name": "stderr",
     "output_type": "stream",
     "text": [
      "100%|██████████| 3993/3993 [00:02<00:00, 1399.58it/s]\n"
     ]
    },
    {
     "name": "stdout",
     "output_type": "stream",
     "text": [
      "(3993, 28, 28, 1)\n"
     ]
    },
    {
     "name": "stderr",
     "output_type": "stream",
     "text": [
      "100%|██████████| 3996/3996 [00:02<00:00, 1386.45it/s]\n"
     ]
    },
    {
     "name": "stdout",
     "output_type": "stream",
     "text": [
      "(3996, 28, 28, 1)\n"
     ]
    },
    {
     "name": "stderr",
     "output_type": "stream",
     "text": [
      "100%|██████████| 3997/3997 [00:02<00:00, 1435.83it/s]\n"
     ]
    },
    {
     "name": "stdout",
     "output_type": "stream",
     "text": [
      "(3997, 28, 28, 1)\n",
      "(59946, 28, 28, 1)\n"
     ]
    }
   ],
   "source": [
    "\n",
    "IMG_SIZE=28\n",
    "COLOR=True\n",
    "SAVE_FILE_NAME='SaveImages'\n",
    "SAVE_FILE_NAME=SAVE_FILE_NAME+'_'+str(IMG_SIZE)+'Gray'\n",
    "\n",
    "merge_array = np.empty([0,28,28,1])    \n",
    "\n",
    "for l in range(15):\n",
    "    \n",
    "    #読み込みディレクトリ名\n",
    "    DIR_NAME='./output_%s'%l\n",
    "    \n",
    "    #読み込みファイル名のリスト\n",
    "    img_list=glob.glob(DIR_NAME+'/*.png')\n",
    "    temp_img_array_list=[]\n",
    "    #画像を読み込み、アレイ型に変換\n",
    "    for img in tqdm(img_list):\n",
    "        temp_img=load_img(img,grayscale=COLOR,target_size=(IMG_SIZE,IMG_SIZE))\n",
    "        temp_img_array=img_to_array(temp_img)\n",
    "        temp_img_array_list.append(temp_img_array)\n",
    "    temp_img_array_list=np.array(temp_img_array_list)\n",
    "    \n",
    "    print(temp_img_array_list.shape)\n",
    "\n",
    "    merge_array = np.concatenate([merge_array, temp_img_array_list])\n",
    "    \n",
    "print(merge_array.shape)\n",
    "\n",
    "# 軸をN,C,H,Wに入れ替え\n",
    "merge_array = merge_array.transpose(0,3,1,2)\n",
    "# npyファイルとして保存\n",
    "np.save(\"train_data_mr.npy\",merge_array)"
   ]
  },
  {
   "cell_type": "markdown",
   "metadata": {},
   "source": [
    "# アレイ型ファイルから画像データを読み込み、表示"
   ]
  },
  {
   "cell_type": "code",
   "execution_count": 6,
   "metadata": {},
   "outputs": [
    {
     "data": {
      "image/png": "[encoded data removed]",
      "text/plain": [
       "<Figure size 432x288 with 1 Axes>"
      ]
     },
     "metadata": {
      "needs_background": "light"
     },
     "output_type": "display_data"
    }
   ],
   "source": [
    "tmp_data = np.load(\"./train_data_mr.npy\")\n",
    "#tmp_data = tmp_data.transpose(0,3,1,2)\n",
    "\n",
    "ind = 0\n",
    "\n",
    "# 画像\n",
    "img = tmp_data[ind,:,:,:,]\n",
    "plt.imshow(img[0,:,:], cmap='gray')\n",
    "plt.show()\n"
   ]
  },
  {
   "cell_type": "markdown",
   "metadata": {},
   "source": [
    "# 正解ラベル作成"
   ]
  },
  {
   "cell_type": "code",
   "execution_count": 7,
   "metadata": {},
   "outputs": [],
   "source": [
    "label_count = []\n",
    "\n",
    "for i in range(15):\n",
    "    path = \"/Users/hiranot/SkillUpAI_DL/DAY1_vr5_0_0/4_kadai/2_notebook/output_%s\"%i\n",
    "    files = os.listdir(path)  \n",
    "    count = len(files)\n",
    "    label_count.append(count)\n",
    "\n",
    "# 各ラベル作成\n",
    "char_01=np.array([1,0,0,0,0,0,0,0,0,0,0,0,0,0,0])\n",
    "char_02=np.array([0,1,0,0,0,0,0,0,0,0,0,0,0,0,0])\n",
    "char_03=np.array([0,0,1,0,0,0,0,0,0,0,0,0,0,0,0])\n",
    "char_04=np.array([0,0,0,1,0,0,0,0,0,0,0,0,0,0,0])\n",
    "char_05=np.array([0,0,0,0,1,0,0,0,0,0,0,0,0,0,0])\n",
    "char_06=np.array([0,0,0,0,0,1,0,0,0,0,0,0,0,0,0])\n",
    "char_07=np.array([0,0,0,0,0,0,1,0,0,0,0,0,0,0,0])\n",
    "char_08=np.array([0,0,0,0,0,0,0,1,0,0,0,0,0,0,0])\n",
    "char_09=np.array([0,0,0,0,0,0,0,0,1,0,0,0,0,0,0])\n",
    "char_10=np.array([0,0,0,0,0,0,0,0,0,1,0,0,0,0,0])\n",
    "char_11=np.array([0,0,0,0,0,0,0,0,0,0,1,0,0,0,0])\n",
    "char_12=np.array([0,0,0,0,0,0,0,0,0,0,0,1,0,0,0])\n",
    "char_13=np.array([0,0,0,0,0,0,0,0,0,0,0,0,1,0,0])\n",
    "char_14=np.array([0,0,0,0,0,0,0,0,0,0,0,0,0,1,0])\n",
    "char_15=np.array([0,0,0,0,0,0,0,0,0,0,0,0,0,0,1])\n",
    "                         \n",
    "for i in range(15):\n",
    "    if i == 0:\n",
    "        array_01 = np.tile(char_01,(label_count[i],1))\n",
    "    if i == 1:\n",
    "        array_02 = np.tile(char_02,(label_count[i],1))\n",
    "    if i == 2:\n",
    "        array_03 = np.tile(char_03,(label_count[i],1))\n",
    "    if i == 3:\n",
    "        array_04 = np.tile(char_04,(label_count[i],1))\n",
    "    if i == 4:\n",
    "        array_05 = np.tile(char_05,(label_count[i],1))\n",
    "    if i == 5:\n",
    "        array_06 = np.tile(char_06,(label_count[i],1))\n",
    "    if i == 6:\n",
    "        array_07 = np.tile(char_07,(label_count[i],1))\n",
    "    if i == 7:\n",
    "        array_08 = np.tile(char_08,(label_count[i],1))\n",
    "    if i == 8:\n",
    "        array_09 = np.tile(char_09,(label_count[i],1))\n",
    "    if i == 9:\n",
    "        array_10 = np.tile(char_10,(label_count[i],1))\n",
    "    if i == 10:\n",
    "        array_11 = np.tile(char_11,(label_count[i],1))\n",
    "    if i == 11:\n",
    "        array_12 = np.tile(char_12,(label_count[i],1))\n",
    "    if i == 12:\n",
    "        array_13 = np.tile(char_13,(label_count[i],1))\n",
    "    if i == 13:\n",
    "        array_14 = np.tile(char_14,(label_count[i],1))\n",
    "    if i == 14:\n",
    "        array_15 = np.tile(char_15,(label_count[i],1))\n",
    "\n",
    "label_data_mr = np.concatenate([array_01, array_02, array_03, array_04, array_05, array_06, array_07, array_08, array_09, array_10, array_11, array_12, array_13, array_14, array_15])\n",
    "\n",
    "np.save(\"train_label_mr.npy\",label_data_mr)\n"
   ]
  },
  {
   "cell_type": "code",
   "execution_count": null,
   "metadata": {},
   "outputs": [],
   "source": []
  }
 ],
 "metadata": {
  "kernelspec": {
   "display_name": "Python 3",
   "language": "python",
   "name": "python3"
  },
  "language_info": {
   "codemirror_mode": {
    "name": "ipython",
    "version": 3
   },
   "file_extension": ".py",
   "mimetype": "text/x-python",
   "name": "python",
   "nbconvert_exporter": "python",
   "pygments_lexer": "ipython3",
   "version": "3.7.3"
  }
 },
 "nbformat": 4,
 "nbformat_minor": 2
}
